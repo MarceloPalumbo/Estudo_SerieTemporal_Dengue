{
 "cells": [
  {
   "cell_type": "code",
   "execution_count": 26,
   "id": "ae760ff8-3f20-43f9-af90-b06d9aafe6b7",
   "metadata": {},
   "outputs": [],
   "source": [
    "import pandas as pd\n",
    "import glob\n",
    "import os\n",
    "\n",
    "pd.set_option('display.max_columns', None)"
   ]
  },
  {
   "cell_type": "markdown",
   "id": "fb358ff1",
   "metadata": {},
   "source": [
    "Devido ao tamanho dos arquivos, foi preciso compactar ele para que o pandas conseguisse ler todos e concatenar eles."
   ]
  },
  {
   "cell_type": "code",
   "execution_count": 39,
   "id": "6aa5e557-6f23-428d-9ccd-339ea47ab83c",
   "metadata": {},
   "outputs": [],
   "source": [
    "def read_parquet(file, colunas):\n",
    "    # Ler o arquivo Parquet\n",
    "    df = pd.read_parquet(file, columns=None)  # Carregar todas as colunas para verificar\n",
    "    # Alguns arquivos tem o campo DT_NASC em vez de ANO_NASC e foi preciso padronizar todos \n",
    "    if \"DT_NASC\" in df.columns:\n",
    "        df['ANO_NASC'] = df['DT_NASC'].str.slice(0,4)\n",
    "    # Adicionar colunas ausentes com valores NaN\n",
    "    for coluna in colunas:\n",
    "        if coluna not in df.columns:\n",
    "            df[coluna] = pd.NA  # Adicionar a coluna ausente com valores NaN\n",
    "    # Reordenar colunas para garantir que a ordem seja consistente\n",
    "    df = df[colunas]\n",
    "    nome_arquivo = file.split('\\\\')[1]\n",
    "    df.to_parquet(f'arquivos_compactado/compactado_{nome_arquivo}', engine='pyarrow', compression='gzip')"
   ]
  },
  {
   "cell_type": "code",
   "execution_count": 42,
   "id": "44a88999-aed0-4b1a-b7b3-d6697c697c6e",
   "metadata": {},
   "outputs": [],
   "source": [
    "#df = pd.concat([pd.read_parquet(f, columns=colunas) for f in arquivos_parquet], ignore_index=True)"
   ]
  },
  {
   "cell_type": "code",
   "execution_count": 40,
   "id": "828c97ac",
   "metadata": {},
   "outputs": [],
   "source": [
    "arquivos_parquet = glob.glob('dados/*.parquet')\n",
    "colunas = ['TP_NOT', 'DT_NOTIFIC', 'SEM_NOT', 'SG_UF_NOT', 'ID_MUNICIP', 'ID_REGIONA', 'ID_UNIDADE', 'DT_SIN_PRI',\n",
    "           'SEM_PRI', 'ANO_NASC', 'CS_SEXO', 'HOSPITALIZ']\n",
    "os.makedirs('arquivos_compactado', exist_ok=True)"
   ]
  },
  {
   "cell_type": "code",
   "execution_count": 41,
   "id": "0b1844c9",
   "metadata": {},
   "outputs": [],
   "source": [
    "for arquivo in arquivos_parquet:\n",
    "    read_parquet(arquivo, colunas)"
   ]
  },
  {
   "cell_type": "code",
   "execution_count": null,
   "id": "c6d9bc10",
   "metadata": {},
   "outputs": [],
   "source": []
  }
 ],
 "metadata": {
  "kernelspec": {
   "display_name": "Python 3 (ipykernel)",
   "language": "python",
   "name": "python3"
  },
  "language_info": {
   "codemirror_mode": {
    "name": "ipython",
    "version": 3
   },
   "file_extension": ".py",
   "mimetype": "text/x-python",
   "name": "python",
   "nbconvert_exporter": "python",
   "pygments_lexer": "ipython3",
   "version": "3.11.5"
  }
 },
 "nbformat": 4,
 "nbformat_minor": 5
}
