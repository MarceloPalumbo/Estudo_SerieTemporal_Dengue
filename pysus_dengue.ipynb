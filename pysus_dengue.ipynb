{
 "cells": [
  {
   "cell_type": "code",
   "execution_count": 1,
   "id": "f5c0bdb9-1222-4b6f-a549-48403b9d279d",
   "metadata": {},
   "outputs": [],
   "source": [
    "# Codigo usado no ambiente Linux para carregar a base de dados usando a biblioteca pysus"
   ]
  },
  {
   "cell_type": "code",
   "execution_count": null,
   "id": "b59e65c6-4073-4cb3-a354-e6b0929137f3",
   "metadata": {},
   "outputs": [],
   "source": [
    "from pysus.ftp.databases.sinan import SINAN\n",
    "import pandas as pd\n",
    "\n",
    "sinan = SINAN().load()\n",
    "lista = sinan.get_files(dis_code=\"DENG\")\n",
    "for arquivo in lista:\n",
    "    temp = sinan.download(arquivo)\n",
    "    try:\n",
    "        df = temp.to_dataframe()\n",
    "        try:\n",
    "            df['DT_SIN_PRI'] = pd.to_datetime(df['DT_SIN_PRI'], errors='coerce')\n",
    "            df['DT_NOTIFIC'] = pd.to_datetime(df['DT_NOTIFIC'], errors='coerce')\n",
    "            df['DT_SIN_PRI'] = df['DT_SIN_PRI'].astype(str)\n",
    "            df['DT_NOTIFIC'] = df['DT_NOTIFIC'].astype(str)\n",
    "            \n",
    "        except:\n",
    "            pass\n",
    "        df.to_parquet(f'/mnt/d/pysus/DenG/{str(arquivo).split(\".\")[0]}.parquet', engine='pyarrow', index=False)\n",
    "    except Exception as e:\n",
    "        print(f\"Apresentou erro na criação do DF referente ao arquivo {arquivo}\")\n",
    "    print(f\"O arquivo {arquivo}, foi processado!\")"
   ]
  }
 ],
 "metadata": {
  "kernelspec": {
   "display_name": "Python 3 (ipykernel)",
   "language": "python",
   "name": "python3"
  },
  "language_info": {
   "codemirror_mode": {
    "name": "ipython",
    "version": 3
   },
   "file_extension": ".py",
   "mimetype": "text/x-python",
   "name": "python",
   "nbconvert_exporter": "python",
   "pygments_lexer": "ipython3",
   "version": "3.11.7"
  }
 },
 "nbformat": 4,
 "nbformat_minor": 5
}
